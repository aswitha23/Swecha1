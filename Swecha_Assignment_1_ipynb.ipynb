{
  "nbformat": 4,
  "nbformat_minor": 0,
  "metadata": {
    "colab": {
      "provenance": [],
      "authorship_tag": "ABX9TyOa4PHyJLQRQ05PtjRXRn0w",
      "include_colab_link": true
    },
    "kernelspec": {
      "name": "python3",
      "display_name": "Python 3"
    },
    "language_info": {
      "name": "python"
    }
  },
  "cells": [
    {
      "cell_type": "markdown",
      "metadata": {
        "id": "view-in-github",
        "colab_type": "text"
      },
      "source": [
        "<a href=\"https://colab.research.google.com/github/aswitha23/Swecha1/blob/main/Swecha_Assignment_1_ipynb.ipynb\" target=\"_parent\"><img src=\"https://colab.research.google.com/assets/colab-badge.svg\" alt=\"Open In Colab\"/></a>"
      ]
    },
    {
      "cell_type": "code",
      "execution_count": 1,
      "metadata": {
        "colab": {
          "base_uri": "https://localhost:8080/"
        },
        "id": "msPVWBgfk0FV",
        "outputId": "ca712e13-84c3-4ee5-f9c4-d111265ffda6"
      },
      "outputs": [
        {
          "output_type": "stream",
          "name": "stdout",
          "text": [
            "Volvo\n"
          ]
        }
      ],
      "source": [
        "#1. Create a variable named carname and assign the value Volvo to it.\n",
        "carname = \"Volvo\"\n",
        "print(carname)"
      ]
    },
    {
      "cell_type": "code",
      "source": [
        "#2. Display sum of 10 and 15 using two variables.\n",
        "x,y=10,15\n",
        "print(x+y)"
      ],
      "metadata": {
        "colab": {
          "base_uri": "https://localhost:8080/"
        },
        "id": "lG86QRvjmQ2O",
        "outputId": "7171c9a5-4bf2-451f-9ee6-a90d8dd7c2f0"
      },
      "execution_count": 2,
      "outputs": [
        {
          "output_type": "stream",
          "name": "stdout",
          "text": [
            "25\n"
          ]
        }
      ]
    },
    {
      "cell_type": "code",
      "source": [
        "#3. Insert the correct syntax to assign the same value to all three variables in one code line\n",
        "#\t\t\t\tX . Y . Z . “Swecha”\n",
        "x=y=z=\"Swecha\""
      ],
      "metadata": {
        "id": "rdcYxyX6md6e"
      },
      "execution_count": 4,
      "outputs": []
    },
    {
      "cell_type": "code",
      "source": [
        "#4. Identify the data type\n",
        "#z = -3255522\n",
        "#z = -87.7e100\n",
        "#x = 3+5j\n",
        "#MakersLab = (\"Block5\",30,\"IDR\",True)\n",
        "z = -3255522\n",
        "print(type(z))\n",
        "z = -87.7e100\n",
        "print(type(z))\n",
        "x = 3+5j\n",
        "print(type(x))\n",
        "Swecha  = (\"Block5\",30, \"IDR\",True)\n",
        "print(type(Swecha))"
      ],
      "metadata": {
        "colab": {
          "base_uri": "https://localhost:8080/"
        },
        "id": "RB8qjbVLmhxc",
        "outputId": "083005a8-c7e2-49b2-b32a-d6b54511bd6b"
      },
      "execution_count": 5,
      "outputs": [
        {
          "output_type": "stream",
          "name": "stdout",
          "text": [
            "<class 'int'>\n",
            "<class 'float'>\n",
            "<class 'complex'>\n",
            "<class 'tuple'>\n"
          ]
        }
      ]
    },
    {
      "cell_type": "code",
      "source": [
        "#5. Write a code to  testing if a number is even or odd\n",
        "x = -24\n",
        "if (int(x) == 0):\n",
        "    print(\"Its a zero\")\n",
        "elif (x % 2 ==0):\n",
        "    print(\"Even\")\n",
        "else :\n",
        "    print(\"odd\")"
      ],
      "metadata": {
        "colab": {
          "base_uri": "https://localhost:8080/"
        },
        "id": "Cz1XUqe2mynn",
        "outputId": "298bc030-842f-40ed-e63b-1b6ff4eed8d7"
      },
      "execution_count": 6,
      "outputs": [
        {
          "output_type": "stream",
          "name": "stdout",
          "text": [
            "Even\n"
          ]
        }
      ]
    },
    {
      "cell_type": "code",
      "source": [
        "#6. Write a code to solve the equation z = |x − y| * (x + y)\n",
        "x,y=-2.5,3\n",
        "result=abs(x-y)*(x+y)\n",
        "print(result)"
      ],
      "metadata": {
        "colab": {
          "base_uri": "https://localhost:8080/"
        },
        "id": "vc2H7mYmm77B",
        "outputId": "bdc50398-02c6-4ccd-ba95-00d177ae544d"
      },
      "execution_count": 7,
      "outputs": [
        {
          "output_type": "stream",
          "name": "stdout",
          "text": [
            "2.75\n"
          ]
        }
      ]
    },
    {
      "cell_type": "code",
      "source": [
        "#7. Write a code to Convert Celsius to fahrenheit\n",
        "c_temp = -28\n",
        "f_temp = (c_temp * 9/5)+32\n",
        "print(str(c_temp)+\" Celsius is \"+str(f_temp)+\" fahrenheit\")"
      ],
      "metadata": {
        "colab": {
          "base_uri": "https://localhost:8080/"
        },
        "id": "CkG7qQ2JnFe6",
        "outputId": "11fa7f88-56f3-49bd-b1a5-ce9c48dd2275"
      },
      "execution_count": 8,
      "outputs": [
        {
          "output_type": "stream",
          "name": "stdout",
          "text": [
            "-28 Celsius is -18.4 fahrenheit\n"
          ]
        }
      ]
    }
  ]
}