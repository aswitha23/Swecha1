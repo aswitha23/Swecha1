{
  "nbformat": 4,
  "nbformat_minor": 0,
  "metadata": {
    "colab": {
      "provenance": [],
      "authorship_tag": "ABX9TyNXzodRrMSD+GTWtGRjGKNO",
      "include_colab_link": true
    },
    "kernelspec": {
      "name": "python3",
      "display_name": "Python 3"
    },
    "language_info": {
      "name": "python"
    }
  },
  "cells": [
    {
      "cell_type": "markdown",
      "metadata": {
        "id": "view-in-github",
        "colab_type": "text"
      },
      "source": [
        "<a href=\"https://colab.research.google.com/github/aswitha23/Swecha1/blob/main/Assignment_2.ipynb\" target=\"_parent\"><img src=\"https://colab.research.google.com/assets/colab-badge.svg\" alt=\"Open In Colab\"/></a>"
      ]
    },
    {
      "cell_type": "code",
      "execution_count": 1,
      "metadata": {
        "colab": {
          "base_uri": "https://localhost:8080/"
        },
        "id": "pOx8XCs8pXgI",
        "outputId": "e8c490e9-8152-4021-eecc-256dc59bcfab"
      },
      "outputs": [
        {
          "output_type": "stream",
          "name": "stdout",
          "text": [
            "5\n",
            "4\n",
            "Last two digits of given integer number are 89\n",
            "56\n"
          ]
        }
      ],
      "source": [
        "#1. Write a code to display last 2 digits of a number.\n",
        "\n",
        "### Assuming the ask to get digits individually of a positive integer number\n",
        "x = 12345\n",
        "for item in [1,2]:\n",
        "    ld = x % 10\n",
        "    x = int(x /10)\n",
        "    print(str(ld))\n",
        "\n",
        "### Assuming if given number is an integer and digits can be show together as a number, then next two lines can meet the ask\n",
        "x=-24589\n",
        "if x < 0:\n",
        "    x = -x\n",
        "print (\"Last two digits of given integer number are \"+str(x%100))\n",
        "\n",
        "### Assuming if given number is a positve or negative , integer or float  and if float, no decimal point in last two places then\n",
        "x=-12.3456\n",
        "y=str(x)\n",
        "print(y[-2:])"
      ]
    },
    {
      "cell_type": "code",
      "source": [
        "#2. Write a program to calculate the electricity bill according to the following criteria\n",
        "#Units  - Price\n",
        "#First 100 units - No charge\n",
        "#Next 100 units - Rs 5 per unit\n",
        "#After 200 units - Rs 10 per unit\n",
        "\n",
        "units = 99\n",
        "if (units  <= 100): print (\"Your bill is Zero. Thank you for being Economical in power usage\")\n",
        "elif (units > 100 and units <=200): print(\"Your bill is Rs.\"+ str((units-100)*5) +\" Only\")\n",
        "else:\n",
        "    print(\"your bill is Rs.\"+str(500+(units-200)*10)+\" Only\")\n"
      ],
      "metadata": {
        "colab": {
          "base_uri": "https://localhost:8080/"
        },
        "id": "e9Y2bdr8pdJT",
        "outputId": "bb848683-efaa-49c3-8252-7ab8c8814e3e"
      },
      "execution_count": 2,
      "outputs": [
        {
          "output_type": "stream",
          "name": "stdout",
          "text": [
            "Your bill is Zero. Thank you for being Economical in power usage\n"
          ]
        }
      ]
    },
    {
      "cell_type": "code",
      "source": [
        "#3. Write a code to print Right down mirror star Pattern\n",
        "#   *****\n",
        "#    ****\n",
        "#     ***\n",
        "#      **\n",
        "#       *\n",
        "\n",
        "for i in range(0,5):\n",
        "    for j in range(i,5):\n",
        "        print(\"*\", end=\"\")\n",
        "    print(\"\"*i)"
      ],
      "metadata": {
        "colab": {
          "base_uri": "https://localhost:8080/"
        },
        "id": "wIojDC5xpnGW",
        "outputId": "b04089f6-bc43-4aef-bb43-f375dc5fabee"
      },
      "execution_count": 3,
      "outputs": [
        {
          "output_type": "stream",
          "name": "stdout",
          "text": [
            "*****\n",
            "****\n",
            "***\n",
            "**\n",
            "*\n"
          ]
        }
      ]
    },
    {
      "cell_type": "code",
      "source": [
        "#3. Write a code to print Right down mirror star Pattern\n",
        "#   *****\n",
        "#    ****\n",
        "#     ***\n",
        "#      **\n",
        "#       *\n",
        "n=5\n",
        "for i in range (n, 0, -1):\n",
        "    print((n-i) * ' ' + i * '*')"
      ],
      "metadata": {
        "colab": {
          "base_uri": "https://localhost:8080/"
        },
        "id": "vhCbYrBqpsVw",
        "outputId": "edcc1d1d-ca14-454f-c3de-c3d57d7d9213"
      },
      "execution_count": 4,
      "outputs": [
        {
          "output_type": "stream",
          "name": "stdout",
          "text": [
            "*****\n",
            " ****\n",
            "  ***\n",
            "   **\n",
            "    *\n"
          ]
        }
      ]
    },
    {
      "cell_type": "code",
      "source": [
        "n=8\n",
        "for i in range(n):\n",
        "    for j in range(n - i):\n",
        "        print(\"*\", end=\"\")\n",
        "    print(\"_\" * (2 * i )+\"*\" * (n-i))\n"
      ],
      "metadata": {
        "colab": {
          "base_uri": "https://localhost:8080/"
        },
        "id": "YAp4QtT4pwgz",
        "outputId": "7267d63b-9116-4d77-e038-33053e51f3cf"
      },
      "execution_count": 5,
      "outputs": [
        {
          "output_type": "stream",
          "name": "stdout",
          "text": [
            "****************\n",
            "*******__*******\n",
            "******____******\n",
            "*****______*****\n",
            "****________****\n",
            "***__________***\n",
            "**____________**\n",
            "*______________*\n"
          ]
        }
      ]
    },
    {
      "cell_type": "code",
      "source": [
        "n=6\n",
        "for i in range(0, n):\n",
        "    for j in range(n - 1, i, -1):\n",
        "        print(j, '', end='')\n",
        "    for l in range(i):\n",
        "        print('    ', end='')\n",
        "    for k in range(i + 1, n):\n",
        "        print(k, '', end='')\n",
        "    print('\\n')\n"
      ],
      "metadata": {
        "colab": {
          "base_uri": "https://localhost:8080/"
        },
        "id": "G9F3cejap0D9",
        "outputId": "6f416a87-43d5-426a-c22a-42aaea83de56"
      },
      "execution_count": 6,
      "outputs": [
        {
          "output_type": "stream",
          "name": "stdout",
          "text": [
            "5 4 3 2 1 1 2 3 4 5 \n",
            "\n",
            "5 4 3 2     2 3 4 5 \n",
            "\n",
            "5 4 3         3 4 5 \n",
            "\n",
            "5 4             4 5 \n",
            "\n",
            "5                 5 \n",
            "\n",
            "                    \n",
            "\n"
          ]
        }
      ]
    }
  ]
}