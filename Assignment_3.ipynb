{
  "nbformat": 4,
  "nbformat_minor": 0,
  "metadata": {
    "colab": {
      "provenance": [],
      "authorship_tag": "ABX9TyObam6Nx9+P8wmvvlm7xQ2d",
      "include_colab_link": true
    },
    "kernelspec": {
      "name": "python3",
      "display_name": "Python 3"
    },
    "language_info": {
      "name": "python"
    }
  },
  "cells": [
    {
      "cell_type": "markdown",
      "metadata": {
        "id": "view-in-github",
        "colab_type": "text"
      },
      "source": [
        "<a href=\"https://colab.research.google.com/github/aswitha23/Swecha1/blob/main/Assignment_3.ipynb\" target=\"_parent\"><img src=\"https://colab.research.google.com/assets/colab-badge.svg\" alt=\"Open In Colab\"/></a>"
      ]
    },
    {
      "cell_type": "code",
      "execution_count": 1,
      "metadata": {
        "colab": {
          "base_uri": "https://localhost:8080/"
        },
        "id": "chy23ZZTqGvH",
        "outputId": "b7a04a16-f581-4e5d-a242-e7b892831d80"
      },
      "outputs": [
        {
          "output_type": "stream",
          "name": "stdout",
          "text": [
            "Pig Latin translation of given string is  omputercay\n"
          ]
        }
      ],
      "source": [
        "# #Pig Latin Translator\n",
        "# Write a Python code that takes a string as input, which would be an English word. The function should return the translation of this word into Pig Latin. You may assume that the word contains no capital letters or punctuation.\n",
        "\n",
        "# The rules for translating words from English into Pig Latin are quite simple:\n",
        "\n",
        "# - If the word begins with a vowel (a, e, i, o, or u), add “way” to the end of the word. So “air” becomes “airway” and “eat” becomes “eatway.”\n",
        "\n",
        "# - If the word begins with any other letter, then we take the first letter, put it on the end of the word, and then add “ay.” Thus, “python” becomes “ythonpay” and “computer” becomes “omputercay.”\n",
        "\n",
        "word ='computer'             ### hardcoding the input as an example only\n",
        "if word[0] in \"aeiou\":\n",
        "    word = word + \"way\"\n",
        "else:\n",
        "    word = word[1:] + word[0] + \"ay\"\n",
        "\n",
        "print(\"Pig Latin translation of given string is \", word)"
      ]
    }
  ]
}