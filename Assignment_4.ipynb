{
  "nbformat": 4,
  "nbformat_minor": 0,
  "metadata": {
    "colab": {
      "provenance": [],
      "authorship_tag": "ABX9TyPEzgwT5NXkBRIRK5HXeLcF",
      "include_colab_link": true
    },
    "kernelspec": {
      "name": "python3",
      "display_name": "Python 3"
    },
    "language_info": {
      "name": "python"
    }
  },
  "cells": [
    {
      "cell_type": "markdown",
      "metadata": {
        "id": "view-in-github",
        "colab_type": "text"
      },
      "source": [
        "<a href=\"https://colab.research.google.com/github/aswitha23/Swecha1/blob/main/Assignment_4.ipynb\" target=\"_parent\"><img src=\"https://colab.research.google.com/assets/colab-badge.svg\" alt=\"Open In Colab\"/></a>"
      ]
    },
    {
      "cell_type": "code",
      "execution_count": 1,
      "metadata": {
        "colab": {
          "base_uri": "https://localhost:8080/"
        },
        "id": "MHP50FBGqgyI",
        "outputId": "b504e11b-8402-45bf-930e-ff7e54d72677"
      },
      "outputs": [
        {
          "output_type": "stream",
          "name": "stdout",
          "text": [
            "['bag', 'hello', 'without', 'world']\n"
          ]
        }
      ],
      "source": [
        "# 1. Write a program that accepts a comma separated sequence of words as input and prints the words in a comma-separated sequence after sorting them alphabetically.\n",
        "# \tSuppose the following input is supplied to the program:\n",
        "# without,hello,bag,world\n",
        "# Then, the output should be:\n",
        "# bag,hello,without,world\n",
        "\n",
        "in_words = ['without','hello','bag','world']   ####Assuming only lower case words\n",
        "in_words.sort()\n",
        "print(in_words)\n",
        "\n"
      ]
    },
    {
      "cell_type": "code",
      "source": [
        "\n",
        "import datetime\n",
        "\n",
        "date='2023-05-14'\n",
        "dt_object = datetime.datetime.fromisoformat(date)\n",
        "new_date = dt_object - datetime.timedelta(days=7)\n",
        "print(\"The date 7 days before {} is {}\".format(date, new_date))"
      ],
      "metadata": {
        "colab": {
          "base_uri": "https://localhost:8080/"
        },
        "id": "7OOiMHNDq3_g",
        "outputId": "65175286-6212-4de3-916c-9a6dea2ad353"
      },
      "execution_count": 2,
      "outputs": [
        {
          "output_type": "stream",
          "name": "stdout",
          "text": [
            "The date 7 days before 2023-05-14 is 2023-05-07 00:00:00\n"
          ]
        }
      ]
    },
    {
      "cell_type": "code",
      "source": [
        "\n",
        "rows = 3\n",
        "columns = 5\n",
        "output_list = [[0 for col in range(columns)] for row in range(rows)]\n",
        "for row in range(rows):\n",
        "    for col in range(columns):\n",
        "        output_list[row][col]= row*col\n",
        "\n",
        "#### Printing the output in a 2D array format\n",
        "for row in output_list:\n",
        "    for column in row:\n",
        "        print(column, end=\" \")\n",
        "    print()"
      ],
      "metadata": {
        "colab": {
          "base_uri": "https://localhost:8080/"
        },
        "id": "EDMmIiMSq8vh",
        "outputId": "02ebface-e356-40d7-ec13-bd7503b64d77"
      },
      "execution_count": 3,
      "outputs": [
        {
          "output_type": "stream",
          "name": "stdout",
          "text": [
            "0 0 0 0 0 \n",
            "0 1 2 3 4 \n",
            "0 2 4 6 8 \n"
          ]
        }
      ]
    },
    {
      "cell_type": "code",
      "source": [
        "import re\n",
        "def Val_password(password):\n",
        "    if len(password) < 6: # Check if the password is at least 6 characters long.\n",
        "        return False\n",
        "    if not re.search(\"[a-z]\", password):# Checking if it contains at least 1 letter between [a-z].\n",
        "        return False\n",
        "    if not re.search(\"[0-9]\", password):# Checking if it  contains at least 1 number between [0-9].\n",
        "        return False\n",
        "    if not re.search(\"[A-Z]\", password):# Checking if it  contains at least 1 letter between [A-Z].\n",
        "        return False\n",
        "    if not re.search(\"[$#@]\", password): # Checking if it  contains at least 1 symbol from [$#@].\n",
        "        return False\n",
        "    if len(password) > 12: # Checking if it is at most 12 chars long.\n",
        "        return False\n",
        "    return True   # returning that the password is valid.\n",
        "\n",
        "\n",
        "input_passwords = \"ABd1234@1,a F1#,2w3E*,2We3345$\"\n",
        "passwords = input_passwords.split(\",\")\n",
        "\n",
        "# Check the validity of each password.\n",
        "valid_passwords = []\n",
        "for password in passwords:\n",
        "    if Val_password(password):\n",
        "        valid_passwords.append(password)\n",
        "\n",
        "# Print the valid passwords.\n",
        "print(\"Valid passwords are\" + str(valid_passwords))"
      ],
      "metadata": {
        "colab": {
          "base_uri": "https://localhost:8080/"
        },
        "id": "-pDzosukrBDx",
        "outputId": "3025f82a-fd20-402b-b5c2-24bac00b5480"
      },
      "execution_count": 4,
      "outputs": [
        {
          "output_type": "stream",
          "name": "stdout",
          "text": [
            "Valid passwords are['ABd1234@1', '2We3345$']\n"
          ]
        }
      ]
    },
    {
      "cell_type": "code",
      "source": [
        "original_point= (0,0)\n",
        "movement_seq = [('UP',5),('DOWN',3),('LEFT',3),('RIGHT',2)]\n",
        "\n",
        "# Iterate over the movements.\n",
        "for direction, steps in movement_seq:\n",
        "    # Move the current position according to the direction and steps.\n",
        "    if direction == \"UP\":\n",
        "        original_point = (original_point[0], original_point[1] + steps)\n",
        "    elif direction == \"DOWN\":\n",
        "        original_point = (original_point[0], original_point[1] - steps)\n",
        "    elif direction == \"LEFT\":\n",
        "        original_point = (original_point[0] - steps, original_point[1])\n",
        "    elif direction == \"RIGHT\":\n",
        "        original_point = (original_point[0] + steps, original_point[1])\n",
        "\n",
        "  # Compute the distance between the final position and the original point.\n",
        "distance = ((original_point[0] - 0) ** 2 + (original_point[1] - 0) ** 2) ** 0.5\n",
        "\n",
        "  # Rounding the distance to the nearest integer.\n",
        "distance = int(distance)\n",
        "print(\"distance travelled : \"+str(distance))\n"
      ],
      "metadata": {
        "colab": {
          "base_uri": "https://localhost:8080/"
        },
        "id": "IajgFzF0rKs0",
        "outputId": "cec1702b-abb9-40e6-b400-6e639beeb8f6"
      },
      "execution_count": 5,
      "outputs": [
        {
          "output_type": "stream",
          "name": "stdout",
          "text": [
            "distance travelled : 2\n"
          ]
        }
      ]
    },
    {
      "cell_type": "code",
      "source": [
        "# 6. Write a program that accepts a sequence of whitespace separated words as input and prints the words after removing all duplicate words and sorting them alphanumerically. Suppose the following input is supplied to the program: hello world and practice makes perfect and hello world again Then, the output should be: again and hello makes perfect practice world\n",
        "\n",
        "input_words = \"hello world and practice makes perfect and hello world again\"\n",
        "distinct_words = input_words.split() #getting individual words from input sentence\n",
        "unique_words = set(distinct_words) #removing duplicates\n",
        "unique_list = list(unique_words) #coverting to list to sort\n",
        "unique_list.sort()\n",
        "print(\" \".join(unique_list))#printing result"
      ],
      "metadata": {
        "colab": {
          "base_uri": "https://localhost:8080/"
        },
        "id": "nu5i_k11rQIG",
        "outputId": "89ddf091-c56a-4dcc-c6c8-cf22f7873238"
      },
      "execution_count": 6,
      "outputs": [
        {
          "output_type": "stream",
          "name": "stdout",
          "text": [
            "again and hello makes perfect practice world\n"
          ]
        }
      ]
    },
    {
      "cell_type": "code",
      "source": [
        "# 7. Calculate number of days between two given dates\n",
        "\n",
        "first_date = datetime.datetime.fromisoformat('2023-05-14')\n",
        "last_date = datetime.datetime.fromisoformat('2023-05-03')\n",
        "\n",
        "diff_days = last_date - first_date\n",
        "print(\"The number of days between given dates are: \",abs(diff_days.days))"
      ],
      "metadata": {
        "colab": {
          "base_uri": "https://localhost:8080/"
        },
        "id": "B5rg0TTKrUyf",
        "outputId": "daa57ac1-ed79-4e08-a274-26bd295bbaff"
      },
      "execution_count": 7,
      "outputs": [
        {
          "output_type": "stream",
          "name": "stdout",
          "text": [
            "The number of days between given dates are:  11\n"
          ]
        }
      ]
    }
  ]
}